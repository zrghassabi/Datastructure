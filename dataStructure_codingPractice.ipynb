{
  "nbformat": 4,
  "nbformat_minor": 0,
  "metadata": {
    "colab": {
      "private_outputs": true,
      "provenance": [],
      "authorship_tag": "ABX9TyOjWyJy+eVVlhiGePogr9Di",
      "include_colab_link": true
    },
    "kernelspec": {
      "name": "python3",
      "display_name": "Python 3"
    },
    "language_info": {
      "name": "python"
    }
  },
  "cells": [
    {
      "cell_type": "markdown",
      "metadata": {
        "id": "view-in-github",
        "colab_type": "text"
      },
      "source": [
        "<a href=\"https://colab.research.google.com/github/zrghassabi/Datastructure/blob/main/dataStructure_codingPractice.ipynb\" target=\"_parent\"><img src=\"https://colab.research.google.com/assets/colab-badge.svg\" alt=\"Open In Colab\"/></a>"
      ]
    },
    {
      "cell_type": "markdown",
      "source": [
        "Time Complexity: O(N log N)\n",
        "Auxiliary Space: O(1)"
      ],
      "metadata": {
        "id": "oxRrqOC6Z6Wh"
      }
    },
    {
      "cell_type": "code",
      "execution_count": null,
      "metadata": {
        "id": "ee6hHaW8Zmfy"
      },
      "outputs": [],
      "source": [
        "# Python3 program to find K'th smallest\n",
        "# element\n",
        "\n",
        "# Function to return K'th smallest\n",
        "# element in a given array\n",
        "\n",
        "\n",
        "def kthSmallest(arr, N, K):\n",
        "\n",
        "    # Sort the given array\n",
        "    arr.sort()\n",
        "\n",
        "    # Return k'th element in the\n",
        "    # sorted array\n",
        "    return arr[K-1]\n",
        "\n",
        "\n",
        "# Driver code\n",
        "if __name__ == '__main__':\n",
        "    arr = [12, 3, 5, 7, 19]\n",
        "    N = len(arr)\n",
        "    K = 2\n",
        "\n",
        "    # Function call\n",
        "    print(\"K'th smallest element is\",\n",
        "          kthSmallest(arr, N, K))"
      ]
    },
    {
      "cell_type": "markdown",
      "source": [
        "The intuition behind this approach is to maintain a max heap (priority queue) of size K while iterating through the array. Doing this ensures that the max heap always contains the K smallest elements encountered so far. If the size of the max heap exceeds K, remove the largest element this step ensures that the heap maintains the K smallest elements encountered so far. In the end, the max heap’s top element will be the Kth smallest element.\n",
        "\n",
        "Key Steps:\n",
        "\n",
        "Max Heap Construction:\n",
        "\n",
        " The algorithm creates a max heap with a size of K to store the smallest K elements from the input array.\n",
        "\n",
        "The elements are inserted into the heap as negative values to simulate a max heap using Python's default heapq, which is a min-heap by nature.\n",
        "Heap Size Control: Once the heap size exceeds K, the largest element (most negative in this case) is removed to maintain the heap size at K.\n",
        "\n",
        "Result:\n",
        "\n",
        " After processing all elements, the root of the heap is the negative of the Kth smallest element.\n",
        "\n",
        " Time Complexity: O(N * log(K)), The approach efficiently maintains a container of the K smallest elements while iterating through the array, ensuring a time complexity of O(N * log(K)), where N is the number of elements in the array.\n",
        "Auxiliary Space: O(K)\n",
        "\n",
        "https://www.geeksforgeeks.org/kth-smallest-largest-element-in-unsorted-array/"
      ],
      "metadata": {
        "id": "h2CLEu4MZ8iK"
      }
    },
    {
      "cell_type": "code",
      "source": [
        "import heapq\n",
        "\n",
        "# Function to find the kth smallest array element\n",
        "def kthSmallest(arr, K):\n",
        "    # Create a max heap (priority queue)\n",
        "    max_heap = []\n",
        "\n",
        "    # Iterate through the array elements\n",
        "    for num in arr:\n",
        "        # Push the negative of the current element onto the max heap\n",
        "        heapq.heappush(max_heap, -num)\n",
        "\n",
        "        # If the size of the max heap exceeds K, remove the largest element\n",
        "        if len(max_heap) > K:\n",
        "            heapq.heappop(max_heap)\n",
        "\n",
        "    # Return the Kth smallest element (top of the max heap, negated)\n",
        "    return -max_heap[0]\n",
        "\n",
        "# Driver's code:\n",
        "if __name__ == \"__main__\":\n",
        "    arr = [10, 5, 4, 3, 48, 6, 2, 33, 53, 10]\n",
        "    K = 4\n",
        "\n",
        "    # Function call\n",
        "    print(\"Kth Smallest Element is:\", kthSmallest(arr, K))"
      ],
      "metadata": {
        "id": "RC8kOqOUaTSI"
      },
      "execution_count": null,
      "outputs": []
    },
    {
      "cell_type": "markdown",
      "source": [],
      "metadata": {
        "id": "5fSibs9QO-7A"
      }
    },
    {
      "cell_type": "code",
      "source": [],
      "metadata": {
        "id": "KDkk5IytO_Ul"
      },
      "execution_count": null,
      "outputs": []
    },
    {
      "cell_type": "markdown",
      "source": [],
      "metadata": {
        "id": "Uw_qjeetO_yV"
      }
    }
  ]
}
{
  "nbformat": 4,
  "nbformat_minor": 0,
  "metadata": {
    "colab": {
      "private_outputs": true,
      "provenance": [],
      "authorship_tag": "ABX9TyMGlXAHrcjrvB6RGsGiS4cm",
      "include_colab_link": true
    },
    "kernelspec": {
      "name": "python3",
      "display_name": "Python 3"
    },
    "language_info": {
      "name": "python"
    }
  },
  "cells": [
    {
      "cell_type": "markdown",
      "metadata": {
        "id": "view-in-github",
        "colab_type": "text"
      },
      "source": [
        "<a href=\"https://colab.research.google.com/github/zrghassabi/Datastructure/blob/main/LinkedList.ipynb\" target=\"_parent\"><img src=\"https://colab.research.google.com/assets/colab-badge.svg\" alt=\"Open In Colab\"/></a>"
      ]
    },
    {
      "cell_type": "code",
      "execution_count": null,
      "metadata": {
        "id": "TEuwDrsRQVqy"
      },
      "outputs": [],
      "source": [
        "# Linked list example\n",
        "\n",
        "\n",
        "# the Node class\n",
        "class Node(object):\n",
        "    def __init__(self, val):\n",
        "        self.val = val\n",
        "        self.next = None\n",
        "\n",
        "    def get_data(self):\n",
        "        return self.val\n",
        "\n",
        "    def set_data(self, val):\n",
        "        self.val = val\n",
        "\n",
        "    def get_next(self):\n",
        "        return self.next\n",
        "\n",
        "    def set_next(self, next):\n",
        "        self.next = next\n",
        "\n",
        "\n",
        "# the LinkedList class\n",
        "class LinkedList(object):\n",
        "    def __init__(self, head=None):\n",
        "        self.head = head\n",
        "        self.count = 0\n",
        "\n",
        "    def get_count(self):\n",
        "        return self.count\n",
        "\n",
        "    def insert(self, data):\n",
        "        new_node = Node(data)\n",
        "        new_node.set_next(self.head)\n",
        "        self.head = new_node\n",
        "        self.count += 1\n",
        "\n",
        "    def find(self, val):\n",
        "        item = self.head\n",
        "        while (item != None):\n",
        "            if item.get_data() == val:\n",
        "                return item\n",
        "            else:\n",
        "                item = item.get_next()\n",
        "        return None\n",
        "\n",
        "    def deleteAt(self, idx):\n",
        "        if idx > self.count:\n",
        "            return\n",
        "        if self.head == None:\n",
        "            return\n",
        "        else:\n",
        "            tempIdx = 0\n",
        "            node = self.head\n",
        "            while tempIdx < idx-1:\n",
        "                node = node.get_next()\n",
        "                tempIdx += 1\n",
        "            node.set_next(node.get_next().get_next())\n",
        "            self.count -= 1\n",
        "\n",
        "    def dump_list(self):\n",
        "        tempnode = self.head\n",
        "        while (tempnode != None):\n",
        "            print(\"Node: \", tempnode.get_data())\n",
        "            tempnode = tempnode.get_next()\n",
        "\n",
        "\n",
        "# create a linked list and insert some items\n",
        "itemlist = LinkedList()\n",
        "itemlist.insert(38)\n",
        "itemlist.insert(49)\n",
        "itemlist.insert(13)\n",
        "itemlist.insert(15)\n",
        "\n",
        "itemlist.dump_list()\n",
        "\n",
        "# exercise the list\n",
        "print(\"Item count: \", itemlist.get_count())\n",
        "print(\"Finding item: \", itemlist.find(13))\n",
        "print(\"Finding item: \", itemlist.find(78))\n",
        "\n",
        "# delete an item\n",
        "itemlist.deleteAt(3)\n",
        "print(\"Item count: \", itemlist.get_count())\n",
        "print(\"Finding item: \", itemlist.find(38))\n",
        "itemlist.dump_list()"
      ]
    }
  ]
}
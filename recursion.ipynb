{
  "nbformat": 4,
  "nbformat_minor": 0,
  "metadata": {
    "colab": {
      "private_outputs": true,
      "provenance": [],
      "authorship_tag": "ABX9TyNgQIoVU/dO2RNusKTxXhN8",
      "include_colab_link": true
    },
    "kernelspec": {
      "name": "python3",
      "display_name": "Python 3"
    },
    "language_info": {
      "name": "python"
    }
  },
  "cells": [
    {
      "cell_type": "markdown",
      "metadata": {
        "id": "view-in-github",
        "colab_type": "text"
      },
      "source": [
        "<a href=\"https://colab.research.google.com/github/zrghassabi/Datastructure/blob/main/recursion.ipynb\" target=\"_parent\"><img src=\"https://colab.research.google.com/assets/colab-badge.svg\" alt=\"Open In Colab\"/></a>"
      ]
    },
    {
      "cell_type": "code",
      "execution_count": null,
      "metadata": {
        "id": "bxUU-dfq4U4R"
      },
      "outputs": [],
      "source": [
        "# use recursion to implement a countdown counter\n",
        "\n",
        "\n",
        "def countdown(x):\n",
        "    if x == 0:\n",
        "        print(\"Done!\")\n",
        "        return\n",
        "    else:\n",
        "        print(x, \"...\")\n",
        "        countdown(x-1)\n",
        "\n",
        "\n",
        "countdown(5)"
      ]
    },
    {
      "cell_type": "code",
      "source": [
        "# Using recursion to implement power and factorial functions\n",
        "\n",
        "\n",
        "# 2^4 = 2*2*2*2 = 16\n",
        "def power(num, pwr):\n",
        "    # breaking condition: if we reach zero, return 1\n",
        "    if pwr == 0:\n",
        "        return 1\n",
        "    else:\n",
        "        return num * power(num, pwr-1)\n",
        "\n",
        "\n",
        "# 5! = 5*4*3*2*1\n",
        "# Special case: 0! is 1, because... math\n",
        "def factorial(num):\n",
        "    if (num == 0):\n",
        "        return 1\n",
        "    else:\n",
        "        return num * factorial(num-1)\n",
        "\n",
        "\n",
        "print(f\"5 to the power of 3 is {power(5, 3)}\")\n",
        "print(f\"2 to the power of 4 is {power(2, 4)}\")\n",
        "print(f\"4! is {factorial(4)}\")\n",
        "print(f\"0! is {factorial(0)}\")"
      ],
      "metadata": {
        "id": "9rXuP9PR4iHW"
      },
      "execution_count": null,
      "outputs": []
    }
  ]
}
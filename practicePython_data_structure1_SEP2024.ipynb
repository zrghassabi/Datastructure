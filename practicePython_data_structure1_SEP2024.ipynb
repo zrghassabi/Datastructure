{
  "nbformat": 4,
  "nbformat_minor": 0,
  "metadata": {
    "colab": {
      "private_outputs": true,
      "provenance": [],
      "gpuType": "V28",
      "authorship_tag": "ABX9TyOflHwHMvc6u92EnxFRMzDu",
      "include_colab_link": true
    },
    "kernelspec": {
      "name": "python3",
      "display_name": "Python 3"
    },
    "language_info": {
      "name": "python"
    },
    "accelerator": "TPU"
  },
  "cells": [
    {
      "cell_type": "markdown",
      "metadata": {
        "id": "view-in-github",
        "colab_type": "text"
      },
      "source": [
        "<a href=\"https://colab.research.google.com/github/zrghassabi/Datastructure/blob/main/practicePython_data_structure1_SEP2024.ipynb\" target=\"_parent\"><img src=\"https://colab.research.google.com/assets/colab-badge.svg\" alt=\"Open In Colab\"/></a>"
      ]
    },
    {
      "cell_type": "markdown",
      "source": [
        "https://github.com/LinkedInLearning/programming-foundations-algorithms-4507286/blob/main/Finished/Searching/unordered_finished.py"
      ],
      "metadata": {
        "id": "Ueid8Qhfjjx1"
      }
    },
    {
      "cell_type": "code",
      "execution_count": null,
      "metadata": {
        "id": "Y-T-rMD9UrpB"
      },
      "outputs": [],
      "source": [
        "Name='Rozita Ghassabi'\n",
        "print(Name[1:5])\n",
        "print(Name[0:5])\n",
        "print(Name[0:len(Name)])\n",
        "message=f'Hi , my name is {Name}'\n",
        "print(message)\n",
        "print(message.upper())\n",
        "print(message.lower())\n",
        "print(message.count('a'))\n",
        "print(message.find('a'))\n",
        "print(message.replace('a','e'))"
      ]
    },
    {
      "cell_type": "code",
      "source": [
        "for i in range(5):\n",
        "    print(i)\n",
        "print(\"*\")\n",
        "for i in range(1,5):\n",
        "    print(i)\n",
        "print(\"*\")\n",
        "for i in range(1,5,2):\n",
        "    print(i)"
      ],
      "metadata": {
        "id": "NEAxQvFrWPEe"
      },
      "execution_count": null,
      "outputs": []
    },
    {
      "cell_type": "code",
      "source": [
        "numbers=[1,2,3,4,5]\n",
        "for i in numbers:\n",
        "    print(i)\n",
        "\n",
        "numbers[0]=10\n",
        "print(numbers)\n",
        "numbers.append(6)\n",
        "print(numbers)\n",
        "numbers.insert(0,6)\n",
        "print(numbers)\n",
        "numbers.remove(6)\n",
        "print(numbers)\n",
        "print(len(numbers))\n",
        "print(numbers.index(5))\n",
        "numbers.sort()\n",
        "print(numbers)\n",
        "numbers.reverse()\n",
        "print(numbers)\n",
        "numbers2=numbers.copy()\n",
        "numbers.append(7)\n",
        "print(numbers2)\n",
        "print(numbers)"
      ],
      "metadata": {
        "id": "8WbuVAl3WxiD"
      },
      "execution_count": null,
      "outputs": []
    },
    {
      "cell_type": "code",
      "source": [
        "def square(number):\n",
        "  return number*number\n",
        "\n",
        "print(square(3))"
      ],
      "metadata": {
        "id": "rf6qoOBGXoHJ"
      },
      "execution_count": null,
      "outputs": []
    },
    {
      "cell_type": "code",
      "source": [
        "class Point:\n",
        "  def __init__(self,x,y):\n",
        "    self.x=x\n",
        "    self.y=y\n",
        "  def move(self):\n",
        "    print(\"move\")\n",
        "\n",
        "point=Point(10,20)\n",
        "print(point.x)"
      ],
      "metadata": {
        "id": "WfdvniDnYZnZ"
      },
      "execution_count": null,
      "outputs": []
    },
    {
      "cell_type": "code",
      "source": [
        "#inheritence\n",
        "class Mammal:\n",
        "  def walk(self):\n",
        "    print(\"walk\")\n",
        "\n",
        "class Dog(Mammal):\n",
        "  def bark(self):\n",
        "    print(\"bark\")\n",
        "\n",
        "dog=Dog()\n",
        "dog.walk()\n",
        "dog.bark()"
      ],
      "metadata": {
        "id": "G5anapweZ0cS"
      },
      "execution_count": null,
      "outputs": []
    },
    {
      "cell_type": "code",
      "source": [
        "import random\n",
        "\n",
        "random.random()"
      ],
      "metadata": {
        "id": "nfvYjL5xaXBb"
      },
      "execution_count": null,
      "outputs": []
    },
    {
      "cell_type": "code",
      "source": [
        "random.randint(1,6)"
      ],
      "metadata": {
        "id": "DJqzqLz8ae0F"
      },
      "execution_count": null,
      "outputs": []
    },
    {
      "cell_type": "code",
      "source": [
        "stack=[]\n",
        "\n",
        "stack.append(1)\n",
        "stack.append(2)\n",
        "stack.append(3)\n",
        "print(stack)\n",
        "stack.pop()\n",
        "print(stack)"
      ],
      "metadata": {
        "id": "XI4tZupmailK"
      },
      "execution_count": null,
      "outputs": []
    },
    {
      "cell_type": "code",
      "source": [
        "from collections import deque\n",
        "\n",
        "queue=deque([])\n",
        "queue.append(1)\n",
        "queue.append(2)\n",
        "queue.append(3)\n",
        "print(queue)\n",
        "queue.popleft()\n",
        "print(queue)"
      ],
      "metadata": {
        "id": "isKSXSnKbZY6"
      },
      "execution_count": null,
      "outputs": []
    },
    {
      "cell_type": "code",
      "source": [
        "items=dict({\"key1\":1,\"key2\":2,\"key3\":3})\n",
        "print(items)\n",
        "print(items[\"key1\"])\n",
        "\n",
        "items[\"key2\"] = \"two\"\n",
        "print(items)\n",
        "\n",
        "del items[\"key3\"]\n",
        "print(items)\n",
        "\n",
        "for key, value in items.items():\n",
        "  print(key,items)"
      ],
      "metadata": {
        "id": "S9kB39Ckbq5w"
      },
      "execution_count": null,
      "outputs": []
    },
    {
      "cell_type": "code",
      "source": [
        "def pow(x,y):\n",
        "  if y==0:\n",
        "    return 1\n",
        "  else:\n",
        "    return x*pow(x,y-1)\n",
        "\n",
        "print(pow(2,3))"
      ],
      "metadata": {
        "id": "aSSm0ZGIjpVC"
      },
      "execution_count": null,
      "outputs": []
    },
    {
      "cell_type": "code",
      "source": [
        "def factorial(n):\n",
        "  if n==0 or n==1:\n",
        "    return 1\n",
        "  else:\n",
        "    return n*factorial(n-1)\n",
        "\n",
        "print(factorial(5))"
      ],
      "metadata": {
        "id": "j5_AyW8sj4gA"
      },
      "execution_count": null,
      "outputs": []
    },
    {
      "cell_type": "code",
      "source": [
        "#Linked List\n",
        "class Node:\n",
        "    def __init__(self, data):\n",
        "        self.data = data\n",
        "        self.next = None\n",
        "\n",
        "class LinkedList:\n",
        "    def __init__(self):\n",
        "        self.head = None\n",
        "        self.count=0\n",
        "\n",
        "    def get_count(self):\n",
        "       return self.count\n",
        "\n",
        "    def insert_at_end(self, data):\n",
        "        new_node = Node(data)\n",
        "        if self.head is None:\n",
        "            self.head = new_node\n",
        "            return\n",
        "        last_node = self.head\n",
        "        while last_node.next:\n",
        "            last_node = last_node.next\n",
        "        last_node.next = new_node\n",
        "        self.count += 1\n",
        "\n",
        "    def insert_at_beginning(self, data):\n",
        "        new_node = Node(data)\n",
        "        new_node.next = self.head\n",
        "        self.head = new_node\n",
        "        self.count += 1\n",
        "\n",
        "    def delete_node(self, key):\n",
        "        temp = self.head\n",
        "        prev = None  # Initialize previous node as None\n",
        "\n",
        "        # If the head node itself holds the key to be deleted\n",
        "        if temp is not None:\n",
        "            if temp.data == key:\n",
        "                self.head = temp.next  # Change head\n",
        "                temp = None  # Delete old head\n",
        "                self.count -= 1  # Decrease count\n",
        "                return\n",
        "\n",
        "        # Search for the key to be deleted, keep track of the previous node\n",
        "        while temp is not None:\n",
        "            if temp.data == key:\n",
        "                break  # Key found\n",
        "            prev = temp\n",
        "            temp = temp.next\n",
        "\n",
        "        # Key was not present in linked list\n",
        "        if temp is None:\n",
        "            return  # Key not found\n",
        "\n",
        "        # Unlink the node from the linked list\n",
        "        prev.next = temp.next\n",
        "        temp = None  # Delete the node\n",
        "        self.count -= 1  # Decrease count\n",
        "\n",
        "    def reverse(self):\n",
        "        prev = None\n",
        "        current = self.head\n",
        "\n",
        "        while current:  # Iterate until the end of the list\n",
        "            next_node = current.next  # Store the next node\n",
        "            current.next = prev  # Reverse the link\n",
        "            prev = current  # Move prev to current\n",
        "            current = next_node  # Move to the next node\n",
        "\n",
        "        self.head = prev  # Update head to the new front of the list\n",
        "\n",
        "    def deleteAt(self, idx):\n",
        "        # If the index is out of bounds, return\n",
        "        if idx < 0 or idx >= self.count:\n",
        "            return\n",
        "\n",
        "        # If the list is empty\n",
        "        if self.head is None:\n",
        "            return\n",
        "\n",
        "        # Handle deletion of the head node\n",
        "        if idx == 0:\n",
        "            self.head = self.head.next\n",
        "            self.count -= 1\n",
        "            return\n",
        "\n",
        "        # Find the node before the one to be deleted\n",
        "        tempIdx = 0\n",
        "        node = self.head\n",
        "\n",
        "        while tempIdx < idx - 1:\n",
        "            node = node.next\n",
        "            tempIdx += 1\n",
        "\n",
        "        # Node is now at the (idx-1) position, unlink the next node\n",
        "        if node.next is not None:\n",
        "            node.next = node.next.next\n",
        "\n",
        "        self.count -= 1  # Decrease count\n",
        "\n",
        "\n",
        "    def find(self, val):\n",
        "        item = self.head\n",
        "        while item is not None:\n",
        "            if item.data == val:  # Check the data of the node\n",
        "                return item  # Return the node if found\n",
        "            item = item.next  # Move to the next node\n",
        "        return None  # Return None if the value was not found\n",
        "\n",
        "    def print_list(self):\n",
        "        current_node = self.head\n",
        "        while current_node:\n",
        "            print(current_node.data, end=\" -> \")\n",
        "            current_node = current_node.next\n",
        "        print(\"None\")\n",
        "\n",
        "\n",
        "if __name__==\"__main__\":\n",
        "\n",
        "    LList=LinkedList()\n",
        "    LList.insert_at_end(1)\n",
        "    LList.insert_at_end(2)\n",
        "    LList.insert_at_end(3)\n",
        "    LList.insert_at_beginning(0)\n",
        "    LList.print_list()\n",
        "\n",
        "\n",
        "    LList.insert_at_beginning(1)\n",
        "    LList.print_list()\n",
        "\n",
        "    LList.delete_node(2)\n",
        "    LList.print_list()\n",
        "\n",
        "    LList.reverse()\n",
        "    LList.print_list()\n",
        "\n",
        "\n",
        "    LList.find(2)\n",
        "    LList.print_list()\n",
        "\n",
        "    LList.deleteAt(2)\n",
        "    LList.print_list()\n"
      ],
      "metadata": {
        "id": "NbztF9LolDxO"
      },
      "execution_count": null,
      "outputs": []
    },
    {
      "cell_type": "markdown",
      "source": [
        "#If a list is Sorted"
      ],
      "metadata": {
        "id": "KDoirh-eGpm2"
      }
    },
    {
      "cell_type": "code",
      "source": [
        "# determine if a list is sorted\n",
        "\n",
        "items1 = [6, 8, 19, 20, 23, 41, 49, 53, 56, 87]\n",
        "items2 = [6, 20, 8, 19, 56, 23, 87, 41, 49, 53]\n",
        "\n",
        "def is_sorted(itemlist):\n",
        "    # using the all function\n",
        "    return all(itemlist[i] <= itemlist[i+1] for i in range(len(itemlist)-1))\n",
        "\n",
        "    # using the brute force method\n",
        "    # for i in range(0, len(itemlist)-1):\n",
        "    #     if (itemlist[i] > itemlist[i+1]):\n",
        "    #         return False\n",
        "    # return True\n",
        "\n",
        "print(is_sorted(items1))\n",
        "print(is_sorted(items2))"
      ],
      "metadata": {
        "id": "lwpF8mlfGttB"
      },
      "execution_count": null,
      "outputs": []
    },
    {
      "cell_type": "markdown",
      "source": [
        "#bubbleSort\n",
        "\n",
        "Explanation:\n",
        "Outer loop: Runs n times, where n is the number of elements in the list.\n",
        "Inner loop: Compares adjacent elements and swaps them if they are out of order. With each iteration, the largest unsorted element is \"bubbled\" to its correct position at the end of the list.\n",
        "Optimization: The algorithm can stop early if no swaps are made in an iteration, indicating that the list is already sorted.\n",
        "Bubble Sort Running Time:\n",
        "The time complexity of bubble sort depends on the input list:\n",
        "\n",
        "Worst Case: O(n²)\n",
        "When the list is in reverse order, the algorithm performs the maximum number of comparisons and swaps. For each of the n elements, the algorithm compares adjacent pairs n-1 times, leading to O(n²) comparisons and swaps.\n",
        "Best Case: O(n)\n",
        "If the list is already sorted, the algorithm will only need one pass through the list, with no swaps made. The flag (swapped = False) allows the algorithm to terminate early, making the best case time O(n).\n",
        "Average Case: O(n²)\n",
        "On average, bubble sort will perform a large number of comparisons and swaps similar to the worst-case scenario.\n",
        "Space Complexity:\n",
        "O(1): Bubble sort is an in-place sorting algorithm, meaning it only requires a constant amount of additional space regardless of the input size.\n",
        "Summary:\n",
        "Best case: O(n) (already sorted list)\n",
        "Worst case: O(n²) (reverse sorted list)\n",
        "Average case: O(n²)\n",
        "Bubble sort is generally not efficient for large datasets due to its quadratic time complexity. More efficient algorithms, such as merge sort or quicksort, are typically preferred."
      ],
      "metadata": {
        "id": "QOs8be-RKUDV"
      }
    },
    {
      "cell_type": "code",
      "source": [
        "def bubble_sort(items):\n",
        "    n = len(items)\n",
        "    # Traverse through all array elements\n",
        "    for i in range(n):\n",
        "        # Flag to detect if any swaps happen in this pass\n",
        "        swapped = False\n",
        "        # Last i elements are already sorted, no need to check them\n",
        "        for j in range(0, n - i - 1):\n",
        "            # Swap if the element is greater than the adjacent element\n",
        "            if items[j] > items[j + 1]:\n",
        "                items[j], items[j + 1] = items[j + 1], items[j]\n",
        "                swapped = True\n",
        "        # If no swaps happened, the list is already sorted\n",
        "        if not swapped:\n",
        "            break\n",
        "    return items\n",
        "\n",
        "# Test the function\n",
        "items = [64, 34, 25, 12, 22, 11, 90]\n",
        "print(bubble_sort(items))\n"
      ],
      "metadata": {
        "id": "7QwpXnLfKXQJ"
      },
      "execution_count": null,
      "outputs": []
    },
    {
      "cell_type": "markdown",
      "source": [
        "# Merge Sort\n",
        "\n",
        "\n",
        "Time Complexity:\n",
        "Best Case:\n",
        "\n",
        "O(nlogn)\n",
        "\n",
        "Average Case:\n",
        "\n",
        "O(nlogn)\n",
        "\n",
        "Worst Case:\n",
        "\n",
        "O(nlogn)\n",
        "\n",
        "Space Complexity:\n",
        "\n",
        "O(n), since it requires additional space for the temporary arrays during the merging process.\n",
        "\n",
        "Pros:\n",
        "Efficiency: Performs well on large datasets and has a predictable time complexity.\n",
        "\n",
        "Stable: Maintains the order of equal elements.\n",
        "\n",
        "Divides and Conquers: Can be implemented with recursion, which is elegant."
      ],
      "metadata": {
        "id": "Y7auz9J4K6CB"
      }
    },
    {
      "cell_type": "code",
      "source": [
        "def merge_sort(arr):\n",
        "    if len(arr) <= 1:\n",
        "        return arr\n",
        "\n",
        "    mid = len(arr) // 2\n",
        "    left_half = merge_sort(arr[:mid])\n",
        "    right_half = merge_sort(arr[mid:])\n",
        "\n",
        "    return merge(left_half, right_half)\n",
        "def merge(left, right):\n",
        "    sorted_array = []\n",
        "    i = j = 0\n",
        "\n",
        "    while i < len(left) and j < len(right):\n",
        "        if left[i] <= right[j]:\n",
        "            sorted_array.append(left[i])\n",
        "            i += 1\n",
        "        else:\n",
        "            sorted_array.append(right[j])\n",
        "            j += 1\n",
        "\n",
        "    # Append remaining elements\n",
        "    sorted_array.extend(left[i:])\n",
        "    sorted_array.extend(right[j:])\n",
        "    return sorted_array\n",
        "# Example usage\n",
        "numbers = [38, 27, 43, 3, 9, 82, 10]\n",
        "sorted_numbers = merge_sort(numbers)\n",
        "print(\"Sorted array:\", sorted_numbers)\n"
      ],
      "metadata": {
        "id": "ijNo6TZUFgGM"
      },
      "execution_count": null,
      "outputs": []
    },
    {
      "cell_type": "markdown",
      "source": [
        "# Insertion Sort\n",
        "\n",
        "Time Complexity:\n",
        "\n",
        "Best Case:\n",
        "\n",
        "O(n) (when the array is already sorted)\n",
        "\n",
        "Average Case:\n",
        "O(n^2)\n",
        "\n",
        "Worst Case:\n",
        "𝑂(𝑛^2) (when the array is sorted in reverse order)\n",
        "\n",
        "Space Complexity:\n",
        "\n",
        "O(1), as it sorts the array in place and does not require additional storage.\n",
        "\n",
        "Pros:\n",
        "\n",
        "Simplicity: Easy to understand and implement.\n",
        "Efficiency on Small Data: Performs well for small datasets or partially sorted arrays.\n",
        "\n",
        "Stable Sort: Maintains the order of equal elements.\n",
        "\n",
        "Cons:\n",
        "\n",
        "Inefficient for Large Datasets: The time complexity makes it less efficient for large lists compared to algorithms like Merge Sort or Quick Sort.\n",
        "Comparison-Based: In the worst case, it requires many comparisons and shifts"
      ],
      "metadata": {
        "id": "ITlycbBYGVUo"
      }
    },
    {
      "cell_type": "code",
      "source": [
        "def insertion_sort(arr):\n",
        "    for i in range(1, len(arr)):\n",
        "        key = arr[i]  # Element to be inserted\n",
        "        j = i - 1\n",
        "        # Shift elements of arr[0..i-1] that are greater than key\n",
        "        while j >= 0 and arr[j] > key:\n",
        "            arr[j + 1] = arr[j]\n",
        "            j -= 1\n",
        "        arr[j + 1] = key  # Insert the key at the correct position\n",
        "\n",
        "# Example usage\n",
        "numbers = [12, 11, 13, 5, 6]\n",
        "insertion_sort(numbers)\n",
        "print(\"Sorted array:\", numbers)\n"
      ],
      "metadata": {
        "id": "9Wlb5mbwGXtw"
      },
      "execution_count": null,
      "outputs": []
    },
    {
      "cell_type": "markdown",
      "source": [
        "# quickSort\n",
        "\n",
        "Time Complexity:\n",
        "\n",
        "Best Case:\n",
        "\n",
        "\n",
        "O(nlogn) (when the pivot divides the array into two equal halves)\n",
        "\n",
        "Average Case:\n",
        "\n",
        "O(nlogn)\n",
        "\n",
        "Worst Case:\n",
        "O(n ^2) (when the smallest or largest element is consistently chosen as the pivot)\n",
        "\n",
        "Space Complexity:\n",
        "\n",
        "O(\\log n) for the recursive stack space in the average case. In the worst case, it can go up to\n",
        "\n",
        "O(n).\n",
        "\n",
        "Pros:\n",
        "Efficiency: Generally faster than other\n",
        "\n",
        "O(nlogn) algorithms like Merge Sort for large datasets.\n",
        "\n",
        "In-Place Sorting: Requires minimal additional space, making it more memory efficient.\n",
        "Versatility: Can be easily implemented with different pivot selection strategies.\n",
        "Cons:\n",
        "Worst-Case Performance: Poor performance on already sorted arrays or arrays with many duplicate elements unless precautions are taken (like randomizing the pivot).\n",
        "Not Stable: Quick Sort is not a stable sorting algorithm, meaning the order of equal elements may not be preserved."
      ],
      "metadata": {
        "id": "0XCPjcNgGYSw"
      }
    },
    {
      "cell_type": "code",
      "source": [
        "def quick_sort(arr, low, high):\n",
        "    if low < high:\n",
        "        pivot_index = partition(arr, low, high)\n",
        "        quick_sort(arr, low, pivot_index - 1)  # Sort left part\n",
        "        quick_sort(arr, pivot_index + 1, high)  # Sort right part\n",
        "\n",
        "def partition(arr, low, high):\n",
        "    pivot = arr[high]  # Last element as pivot\n",
        "    i = low - 1\n",
        "    for j in range(low, high):\n",
        "        if arr[j] <= pivot:\n",
        "            i += 1\n",
        "            arr[i], arr[j] = arr[j], arr[i]  # Swap elements\n",
        "    arr[i + 1], arr[high] = arr[high], arr[i + 1]  # Place pivot in the correct position\n",
        "    return i + 1\n",
        "\n",
        "# Example usage\n",
        "numbers = [10, 7, 8, 9, 1, 5]\n",
        "quick_sort(numbers, 0, len(numbers) - 1)\n",
        "print(\"Sorted array:\", numbers)\n"
      ],
      "metadata": {
        "id": "3EB2_BDJGaI7"
      },
      "execution_count": null,
      "outputs": []
    },
    {
      "cell_type": "markdown",
      "source": [
        "#Find an Item\n",
        "\n",
        "\n",
        "The running time of this function depends on how many elements need to be checked in the list items before either finding the target item or reaching the end of the list.\n",
        "\n",
        "Best Case:\n",
        "The best case happens when the first element in the list matches item.\n",
        "In this case, the function only needs to check the first element, so the running time is O(1).\n",
        "Worst Case:\n",
        "The worst case happens when the function checks every element in the list, either because the item is at the end or not present at all.\n",
        "In this case, the function performs n checks, where n is the length of the list. So, the running time is O(n).\n",
        "Average Case:\n",
        "On average, the function will need to check about half the elements before finding a match (or confirming there isn’t one).\n",
        "The average running time is O(n), as it still depends on the size of the list.\n",
        "In summary:\n",
        "\n",
        "Best case running time: O(1)\n",
        "Worst case running time: O(n)\n",
        "Average case running time: O(n)"
      ],
      "metadata": {
        "id": "jqH9DgouDYsK"
      }
    },
    {
      "cell_type": "code",
      "source": [
        "#binary search\n",
        "#find item in order and unorder list\n",
        "\n",
        "#bruceforce\n",
        "def find_item(items,item):\n",
        "  for i in range(len(items)):\n",
        "    if items[i]==item:\n",
        "      return i\n",
        "    return None\n",
        "\n",
        ""
      ],
      "metadata": {
        "id": "P6rRnOlilKai"
      },
      "execution_count": null,
      "outputs": []
    },
    {
      "cell_type": "markdown",
      "source": [
        "The find_item function you've provided is a linear search, which checks each item one-by-one. If the list is unsorted, this is generally the best we can do, as there's no way to know if the item exists without checking each element.\n",
        "\n",
        "However, if the list is sorted, we can significantly optimize the search using a binary search algorithm. Binary search reduces the running time from O(n) to O(log n) by repeatedly dividing the search space in half.\n",
        "\n",
        "Mid index calculation: In Python, division (/) produces a float, but list indices must be integers. You should use floor division (//) to get an integer index."
      ],
      "metadata": {
        "id": "LPA8jCCMDioQ"
      }
    },
    {
      "cell_type": "code",
      "source": [
        "def binary_search(items, item):\n",
        "    low = 0\n",
        "    high = len(items) - 1\n",
        "\n",
        "    while low <= high:\n",
        "        mid = (low + high) // 2  # Use integer division\n",
        "\n",
        "        if items[mid] == item:\n",
        "            return mid  # Item found, return index\n",
        "        elif items[mid] < item:\n",
        "            low = mid + 1  # Search in the right half\n",
        "        else:\n",
        "            high = mid - 1  # Search in the left half\n",
        "\n",
        "    return None  # Item not found\n",
        "\n",
        "# Example usage\n",
        "print(binary_search([0, 1, 2, 3, 8], 4))  # Should return 0 (index of the item 0)\n"
      ],
      "metadata": {
        "id": "kv1KWt6ODjCD"
      },
      "execution_count": null,
      "outputs": []
    },
    {
      "cell_type": "markdown",
      "source": [
        "Recursive Binary Search Implementation:"
      ],
      "metadata": {
        "id": "hhn0qo17Fiz8"
      }
    },
    {
      "cell_type": "code",
      "source": [
        "def binary_search_recursive(items, item, low, high):\n",
        "    # Base case: If low is greater than high, item is not found\n",
        "    if low > high:\n",
        "        return None\n",
        "\n",
        "    mid = (low + high) // 2  # Calculate the middle index\n",
        "\n",
        "    # If the item is found at the mid index\n",
        "    if items[mid] == item:\n",
        "        return mid\n",
        "    # If the item is greater, search the right half\n",
        "    elif items[mid] < item:\n",
        "        return binary_search_recursive(items, item, mid + 1, high)\n",
        "    # If the item is smaller, search the left half\n",
        "    else:\n",
        "        return binary_search_recursive(items, item, low, mid - 1)\n",
        "\n",
        "# Helper function to simplify the call\n",
        "def binary_search(items, item):\n",
        "    return binary_search_recursive(items, item, 0, len(items) - 1)\n",
        "\n",
        "# Example usage\n",
        "print(binary_search([0, 1, 2, 3, 8], 0))  # Should return 0\n"
      ],
      "metadata": {
        "id": "am3UqrILFj8w"
      },
      "execution_count": null,
      "outputs": []
    },
    {
      "cell_type": "code",
      "source": [
        "#find max in order and unorder list"
      ],
      "metadata": {
        "id": "lVaAjmtslVln"
      },
      "execution_count": null,
      "outputs": []
    },
    {
      "cell_type": "markdown",
      "source": [
        "# find max in unordered list\n",
        "\n",
        "Thus, the running time is proportional to the size of the list, making it O(n), where n is the length of the list.\n",
        "\n",
        "Summary:\n",
        "Best case running time: O(n)\n",
        "Worst case running time: O(n)\n",
        "Average case running time: O(n)\n",
        "This is because the algorithm must check each element exactly once in order to find the maximum, making it a linear-time algorithm."
      ],
      "metadata": {
        "id": "R50lRX1hJXl8"
      }
    },
    {
      "cell_type": "code",
      "source": [
        "# use a recursive algorithm to find a maximum value\n",
        "# declare a list of values to operate on\n",
        "items = [6, 20, 8, 19, 56, 23, 87, 41, 49, 53]\n",
        "\n",
        "def find_max(items):\n",
        "    # breaking condition: last item in list? return it\n",
        "    if len(items) == 1:\n",
        "        return items[0]\n",
        "\n",
        "    # otherwise get the first item and call function\n",
        "    # again to operate on the rest of the list\n",
        "    val1 = items[0]\n",
        "    val2 = find_max(items[1:])\n",
        "\n",
        "    # perform the comparison when we're down to just two\n",
        "    if val1 > val2:\n",
        "        return val1\n",
        "    else:\n",
        "        return val2\n",
        "\n",
        "\n",
        "# test the function\n",
        "print(find_max(items))"
      ],
      "metadata": {
        "id": "Y-Tg8OtKIzxJ"
      },
      "execution_count": null,
      "outputs": []
    },
    {
      "cell_type": "markdown",
      "source": [
        " # Find and remove Duplicates\n",
        "\n",
        "\n",
        " Write a program to remove duplicates from a sorted array in place?\n",
        "\n",
        "Input: {1, 1, 1, 2, 3, 3, 6, 6, 7}\n",
        "\n",
        "Output: {1, 2, 3, 6, 7}\n",
        "\n",
        "\n",
        "\n",
        "\n",
        "Explanation: The given input has only 1,2,3,6, and 7 as unique elements, hence the output only lists them out.\n",
        "\n",
        "Key Points:\n",
        "\n",
        "Time Complexity: O(n), where n is the number of elements in the array. The array is traversed once.\n",
        "\n",
        "Space Complexity: O(1), since the array is modified in place, and no extra space is used for another array.\n",
        "\n",
        "This implementation efficiently removes duplicates from a sorted array, ensuring that only unique elements remain."
      ],
      "metadata": {
        "id": "oSYi7kZSi2Yh"
      }
    },
    {
      "cell_type": "code",
      "source": [
        "def remove_duplicates(arr):\n",
        "    if len(arr) == 0:\n",
        "        return 0  # Edge case: empty array\n",
        "\n",
        "    # Index to place the next unique element\n",
        "    unique_index = 0\n",
        "\n",
        "    # Traverse the array starting from the second element\n",
        "    for i in range(1, len(arr)):\n",
        "        # If the current element is not equal to the last unique element\n",
        "        if arr[unique_index] != arr[i]:\n",
        "            unique_index += 1  # Move the unique index forward\n",
        "            arr[unique_index] = arr[i]  # Place the unique element at the new index\n",
        "\n",
        "    # Return the new length of the array with unique elements\n",
        "    return unique_index + 1\n",
        "\n",
        "\n",
        "# Driver code to test the function\n",
        "arr = [1, 1, 1, 2, 3, 3, 6, 6, 7]\n",
        "print(\"Original array:\", arr)\n",
        "\n",
        "# Remove duplicates and get the new length\n",
        "new_length = remove_duplicates(arr)\n",
        "\n",
        "# Print the array after removing duplicates\n",
        "print(\"Array after removing duplicates:\", arr[:new_length])\n"
      ],
      "metadata": {
        "id": "8Ye_XdiQlSY3"
      },
      "execution_count": null,
      "outputs": []
    },
    {
      "cell_type": "code",
      "source": [
        "def find_duplicates(arr):\n",
        "    # Dictionary to store the frequency of each number\n",
        "    frequency = {}\n",
        "\n",
        "    # Traverse through the array and populate the frequency dictionary\n",
        "    for num in arr:\n",
        "        if num in frequency:\n",
        "            frequency[num] += 1  # Increment count if already present\n",
        "        else:\n",
        "            frequency[num] = 1  # Add number with count 1 if not present\n",
        "\n",
        "    # Find and print all numbers with frequency > 1 (duplicates)\n",
        "    duplicates = [num for num, count in frequency.items() if count > 1]\n",
        "\n",
        "    return duplicates\n",
        "\n",
        "# Example array with multiple duplicates\n",
        "arr = [1, 2, 2, 3, 4, 5, 5, 6, 6, 7, 8, 9, 9, 10, 11, 12, 13, 13, 14, 15]\n",
        "\n",
        "# Find the duplicate numbers\n",
        "duplicates = find_duplicates(arr)\n",
        "print(\"Duplicate numbers are:\", duplicates)\n"
      ],
      "metadata": {
        "id": "nqamtxSXXm0B"
      },
      "execution_count": null,
      "outputs": []
    },
    {
      "cell_type": "markdown",
      "source": [
        "To find all the duplicate numbers in an array where numbers from 1 to 100 are stored, with multiple numbers being duplicated, you can use a hashmap (or Python’s dictionary) to track the frequency of each number.\n",
        "\n",
        "Approach:\n",
        "Traverse the array and use a dictionary (hashmap) to store each number and its occurrence count.\n",
        "If a number occurs more than once, it is a duplicate.\n",
        "Print all the numbers that have a count greater than 1.\n",
        "\n",
        "Time Complexity:\n",
        "The time complexity is O(n), where n is the number of elements in the array, because we make one pass through the array to populate the dictionary.\n",
        "Space Complexity:\n",
        "The space complexity is O(n) because the dictionary stores the count of each number, which requires additional space proportional to the size of the input array"
      ],
      "metadata": {
        "id": "Pk4T1YleXlas"
      }
    },
    {
      "cell_type": "markdown",
      "source": [
        "# Another approach\n",
        "\n",
        "To find the duplicate number in an array where numbers from 1 to 100 are stored, with exactly one number being duplicated, you can use a mathematical approach similar to finding the missing number but with slight modifications.\n",
        "\n",
        "Approach:\n",
        "Calculate the sum of numbers from 1 to 100 using the formula for the sum of an arithmetic series:\n",
        "Sum=𝑛(𝑛+1)/2\n",
        "where 𝑛=100\n",
        "\n",
        "Calculate the sum of the elements in the given array (which contains 101 elements due to the duplicate).\n",
        "\n",
        "The difference between the sum of the array elements and the expected sum (from step 1) will give the duplicate number.\n",
        "\n",
        "This approach also runs in O(n) time and uses O(1) space."
      ],
      "metadata": {
        "id": "A1_r1Ir4Wb3o"
      }
    },
    {
      "cell_type": "code",
      "source": [
        "def find_duplicate_number(arr):\n",
        "    n = 100  # The range is from 1 to 100\n",
        "    total_sum = n * (n + 1) // 2  # Sum of numbers from 1 to 100\n",
        "\n",
        "    # Sum of the array elements (101 elements)\n",
        "    array_sum = sum(arr)\n",
        "\n",
        "    # The duplicate number is the difference between array sum and total sum\n",
        "    duplicate_number = array_sum - total_sum\n",
        "\n",
        "    return duplicate_number\n",
        "\n",
        "# Example array with one duplicate number\n",
        "arr = list(range(1, 101))  # [1, 2, 3, ..., 100]\n",
        "arr.append(57)  # Let's say the number 57 is duplicated\n",
        "\n",
        "# Find the duplicate number\n",
        "duplicate = find_duplicate_number(arr)\n",
        "print(f\"The duplicate number is: {duplicate}\")\n"
      ],
      "metadata": {
        "id": "VkcFZqKrW5ll"
      },
      "execution_count": null,
      "outputs": []
    },
    {
      "cell_type": "markdown",
      "source": [
        "# Missing Number in an array"
      ],
      "metadata": {
        "id": "Bfbn3Id6dsGR"
      }
    },
    {
      "cell_type": "markdown",
      "source": [
        "To find the missing number in an array where numbers from 1 to 100 are stored but one number is missing, you can use a simple mathematical approach.\n",
        "\n",
        "Steps:\n",
        "Calculate the sum of numbers from 1 to 100 using the formula for the sum of an arithmetic series:\n",
        "\n",
        "Sum= 𝑛(𝑛+1)/2\n",
        "\n",
        "where\n",
        "\n",
        "𝑛=100\n",
        "\n",
        "Calculate the sum of the elements in the given array.\n",
        "Subtract the sum of the array elements from the expected sum (from step 1). The difference will give the missing number.\n",
        "\n",
        "Time Complexity:\n",
        "The time complexity is O(n), where n is the length of the array (99 in this case), since we iterate through the array once to compute its sum.\n",
        "\n",
        "Space Complexity:\n",
        "The space complexity is O(1) because the algorithm uses only a few variables and no additional space proportional to the input size.\n"
      ],
      "metadata": {
        "id": "GHtwXWzJVvGY"
      }
    },
    {
      "cell_type": "code",
      "source": [
        "def find_missing_number(arr):\n",
        "    n = 100  # The range is from 1 to 100\n",
        "    total_sum = n * (n + 1) // 2  # Sum of numbers from 1 to 100\n",
        "\n",
        "    # Sum of the array elements\n",
        "    array_sum = sum(arr)\n",
        "\n",
        "    # The missing number is the difference between total sum and array sum\n",
        "    missing_number = total_sum - array_sum\n",
        "\n",
        "    return missing_number\n",
        "\n",
        "# Example array with one missing number\n",
        "arr = list(range(1, 101))  # [1, 2, 3, ..., 100]\n",
        "arr.remove(57)  # Let's say the number 57 is missing\n",
        "\n",
        "# Find the missing number\n",
        "missing = find_missing_number(arr)\n",
        "print(f\"The missing number is: {missing}\")\n"
      ],
      "metadata": {
        "id": "tYHEZUsHVw8D"
      },
      "execution_count": null,
      "outputs": []
    },
    {
      "cell_type": "markdown",
      "source": [
        "# Find Min and Max\n",
        "\n",
        "\n",
        "Time Complexity:\n",
        "The time complexity is O(n), where n is the number of elements in the array. This is because we iterate through the array exactly once.\n",
        "Space Complexity:\n",
        "The space complexity is O(1), as no additional space proportional to the input size is required—only a few variables are used."
      ],
      "metadata": {
        "id": "sFHDRmwZgCE2"
      }
    },
    {
      "cell_type": "code",
      "source": [
        "def find_min_max(arr):\n",
        "    if len(arr) == 0:\n",
        "        return None, None  # Handle the case of an empty array\n",
        "\n",
        "    # Initialize max_num and min_num with the first element of the array\n",
        "    max_num = min_num = arr[0]\n",
        "\n",
        "    # Traverse the array starting from the second element\n",
        "    for num in arr[1:]:\n",
        "        if num > max_num:\n",
        "            max_num = num\n",
        "        if num < min_num:\n",
        "            min_num = num\n",
        "\n",
        "    return min_num, max_num\n",
        "\n",
        "# Example array\n",
        "arr = [6, 3, 9, 2, 10, 4, 7]\n",
        "\n",
        "# Find the smallest and largest numbers\n",
        "min_num, max_num = find_min_max(arr)\n",
        "print(f\"The smallest number is: {min_num}\")\n",
        "print(f\"The largest number is: {max_num}\")\n"
      ],
      "metadata": {
        "id": "SWWU-v5Af_62"
      },
      "execution_count": null,
      "outputs": []
    },
    {
      "cell_type": "markdown",
      "source": [
        "# Fimd pairs which their sum is equal to a value\n",
        "\n",
        "bruce forth\n",
        "\n",
        "Explanation:\n",
        "\n",
        "For each element in the array, you check all the elements that come after it.\n",
        "If the sum of two elements is equal to the target sum, you add the pair to the list.\n",
        "\n",
        "Time Complexity:\n",
        "\n",
        "O(n²) because for each element, you compare it with every other element."
      ],
      "metadata": {
        "id": "5FKfIOE1gne3"
      }
    },
    {
      "cell_type": "code",
      "source": [
        "def find_pairs_brute_force(arr, target_sum):\n",
        "    pairs = []\n",
        "    # Traverse through each element in the array\n",
        "    for i in range(len(arr)):\n",
        "        for j in range(i + 1, len(arr)):  # Compare it with every other element\n",
        "            if arr[i] + arr[j] == target_sum:\n",
        "                pairs.append((arr[i], arr[j]))  # Add pair to result list\n",
        "    return pairs\n",
        "\n",
        "# Example array and target sum\n",
        "arr = [1, 5, 7, -1, 5, 2, 3, 8]\n",
        "target_sum = 6\n",
        "\n",
        "# Find pairs\n",
        "result = find_pairs_brute_force(arr, target_sum)\n",
        "print(f\"Pairs whose sum equals {target_sum}: {result}\")\n"
      ],
      "metadata": {
        "id": "Ih_nniUAgugv"
      },
      "execution_count": null,
      "outputs": []
    },
    {
      "cell_type": "markdown",
      "source": [
        "Explanation:\n",
        "\n",
        "For each element in the array, calculate the complement (i.e., target_sum - num).\n",
        "\n",
        "Check if the complement exists in the hash set (which stores the elements we've already seen).\n",
        "\n",
        "If the complement exists, that means we've found a pair whose sum equals the target sum.\n",
        "\n",
        "Add the current element to the set to continue checking future elements.\n",
        "Time Complexity:\n",
        "\n",
        "O(n) because each lookup and insertion in the set takes constant time, and you only traverse the array once.\n",
        "\n",
        "Explanation of the Difference:\n",
        "\n",
        "Brute Force (O(n²)) compares each element with every other element. This approach works but becomes inefficient as the size of the array grows.\n",
        "\n",
        "Using a Hash Set (O(n)) leverages the fact that checking for membership in a set is constant time (O(1)). It avoids redundant comparisons and is much more efficient for larger arrays.\n",
        "\n",
        "Both approaches return the same result, but the hash set method is more optimal for larger arrays."
      ],
      "metadata": {
        "id": "sIYTF0ZchS4T"
      }
    },
    {
      "cell_type": "code",
      "source": [
        "def find_pairs_with_set(arr, target_sum):\n",
        "    seen = set()\n",
        "    pairs = []\n",
        "\n",
        "    # Traverse through each element in the array\n",
        "    for num in arr:\n",
        "        complement = target_sum - num  # Calculate the complement\n",
        "\n",
        "        # Check if the complement exists in the set\n",
        "        if complement in seen:\n",
        "            pairs.append((complement, num))  # Add the pair\n",
        "        seen.add(num)  # Add the current number to the set\n",
        "\n",
        "    return pairs\n",
        "\n",
        "# Example array and target sum\n",
        "arr = [1, 5, 7, -1, 5, 2, 3, 8]\n",
        "target_sum = 6\n",
        "\n",
        "# Find pairs\n",
        "result = find_pairs_with_set(arr, target_sum)\n",
        "print(f\"Pairs whose sum equals {target_sum}: {result}\")\n"
      ],
      "metadata": {
        "id": "mCvBg0D3hNA5"
      },
      "execution_count": null,
      "outputs": []
    },
    {
      "cell_type": "markdown",
      "source": [
        "Explanation:\n",
        "\n",
        "The array is traversed from both ends simultaneously using the left and right pointers.\n",
        "\n",
        "At each step, the elements at left and right are swapped.\n",
        "\n",
        "After each swap, the left pointer is moved one step to the right, and the right pointer is moved one step to the left.\n",
        "The process continues until the left pointer is no longer less than the right pointer, indicating that the middle of the array has been reached.\n",
        "\n",
        "Time Complexity:\n",
        "\n",
        "O(n), where n is the number of elements in the array. Each element is swapped once, and the array is traversed in a single pass.\n",
        "Space Complexity:\n",
        "\n",
        "O(1), since the array is reversed in place without using any extra space."
      ],
      "metadata": {
        "id": "wJ9HZ0IQiwre"
      }
    },
    {
      "cell_type": "code",
      "source": [
        "def reverse_array_in_place(arr):\n",
        "    # Initialize two pointers\n",
        "    left = 0\n",
        "    right = len(arr) - 1\n",
        "\n",
        "    # Swap elements until the two pointers meet in the middle\n",
        "    while left < right:\n",
        "        # Swap elements at left and right\n",
        "        arr[left], arr[right] = arr[right], arr[left]\n",
        "\n",
        "        # Move pointers towards the middle\n",
        "        left += 1\n",
        "        right -= 1\n",
        "\n",
        "# Example array\n",
        "arr = [1, 2, 3, 4, 5, 6, 7]\n",
        "\n",
        "# Reverse the array in place\n",
        "reverse_array_in_place(arr)\n",
        "print(\"Reversed array:\", arr)\n"
      ],
      "metadata": {
        "id": "rIqDgu9WixCx"
      },
      "execution_count": null,
      "outputs": []
    },
    {
      "cell_type": "markdown",
      "source": [
        "Explanation:\n",
        "Initialization: The variables max1 and max2 are initialized to -inf to ensure that any number in the array will be larger during the first comparison.\n",
        "\n",
        "Array Traversal:\n",
        "\n",
        "If a number is larger than max1, update max2 to the previous max1 value and then set max1 to the current number.\n",
        "\n",
        "If the number is not larger than max1 but is larger than max2, update max2.\n",
        "Edge Case: If max2 is still -inf after the traversal, that means there is no second distinct maximum number in the array.\n",
        "\n",
        "Time Complexity:\n",
        "\n",
        "O(n), where n is the number of elements in the array. The array is traversed exactly once.\n",
        "\n",
        "Space Complexity:\n",
        "\n",
        "O(1), as only two variables (max1 and max2) are used, and no extra space is required."
      ],
      "metadata": {
        "id": "9naN7A50rnAY"
      }
    },
    {
      "cell_type": "code",
      "source": [
        "def find_second_max(arr):\n",
        "    # Handle edge case where array has fewer than 2 elements\n",
        "    if len(arr) < 2:\n",
        "        return \"Array must contain at least two distinct elements.\"\n",
        "\n",
        "    # Initialize max1 and max2 to very low values\n",
        "    max1 = max2 = float('-inf')\n",
        "\n",
        "    # Traverse the array\n",
        "    for num in arr:\n",
        "        if num > max1:\n",
        "            # Update max2 before updating max1\n",
        "            max2 = max1\n",
        "            max1 = num\n",
        "        elif num > max2 and num != max1:\n",
        "            # Update max2 only if num is not equal to max1\n",
        "            max2 = num\n",
        "\n",
        "    # If max2 is still negative infinity, no second distinct max exists\n",
        "    if max2 == float('-inf'):\n",
        "        return \"No second distinct maximum element found.\"\n",
        "\n",
        "    return max2\n",
        "\n",
        "# Example array\n",
        "arr = [10, 5, 20, 20, 12, 25, 30, 25]\n",
        "\n",
        "# Find the second maximum number\n",
        "second_max = find_second_max(arr)\n",
        "print(f\"The second largest number is: {second_max}\")\n"
      ],
      "metadata": {
        "id": "pV1q0qgkrna4"
      },
      "execution_count": null,
      "outputs": []
    },
    {
      "cell_type": "markdown",
      "source": [
        "https://javarevisited.blogspot.com/2011/06/top-programming-interview-questions.html#\n",
        "\n",
        "https://dev.to/javinpaul/50-data-structure-and-algorithms-problems-from-coding-interviews-4lh2#"
      ],
      "metadata": {
        "id": "r3BAEVn6isY2"
      }
    },
    {
      "cell_type": "markdown",
      "source": [
        "# Find Max Recursively\n",
        "\n",
        "Time Complexity:\n",
        "O(n), where n is the size of the array. Each recursive call processes one element, so there are n recursive calls.\n",
        "Space Complexity:\n",
        "O(n) due to the recursion stack. Each recursive call consumes space on the stack until the base case is reached."
      ],
      "metadata": {
        "id": "XSn1Tp5MwUuw"
      }
    },
    {
      "cell_type": "code",
      "source": [
        "def find_max_recursive(arr):\n",
        "    # Base case: if the array has only one element, return that element\n",
        "    if len(arr) == 1:\n",
        "        return arr[0]\n",
        "\n",
        "    # Recursive case: find the maximum of the rest of the array\n",
        "    max_of_rest = find_max_recursive(arr[1:])\n",
        "\n",
        "    # Compare the first element with the maximum of the rest\n",
        "    return arr[0] if arr[0] > max_of_rest else max_of_rest\n",
        "\n",
        "# Example array\n",
        "arr = [10, 5, 20, 12, 25, 30]\n",
        "\n",
        "# Find the maximum value recursively\n",
        "max_value = find_max_recursive(arr)\n",
        "print(f\"The maximum value in the array is: {max_value}\")\n"
      ],
      "metadata": {
        "id": "KEiIGpoOhksl"
      },
      "execution_count": null,
      "outputs": []
    },
    {
      "cell_type": "markdown",
      "source": [
        "# queue"
      ],
      "metadata": {
        "id": "B_AqLmzLygXO"
      }
    },
    {
      "cell_type": "code",
      "source": [
        "# Example file for Programming Foundations\n",
        "# try out the Python queue functions\n",
        "from collections import deque\n",
        "\n",
        "# create a new empty deque object that will function as a queue\n",
        "queue = deque()\n",
        "\n",
        "# add some items to the queue\n",
        "queue.append(1)\n",
        "queue.append(2)\n",
        "queue.append(3)\n",
        "queue.append(4)\n",
        "\n",
        "# print the queue contents\n",
        "print(queue)\n",
        "\n",
        "# pop an item off the front of the queue\n",
        "x = queue.popleft()\n",
        "print(x)\n",
        "print(queue)"
      ],
      "metadata": {
        "id": "Jz-bqUE7yeYs"
      },
      "execution_count": null,
      "outputs": []
    },
    {
      "cell_type": "markdown",
      "source": [
        "# Stack"
      ],
      "metadata": {
        "id": "pS-sZrLSyk4J"
      }
    },
    {
      "cell_type": "code",
      "source": [
        "# try out the Python stack functions\n",
        "\n",
        "# create a new empty stack\n",
        "stack = []\n",
        "\n",
        "# push items onto the stack\n",
        "stack.append(1)\n",
        "stack.append(2)\n",
        "stack.append(3)\n",
        "stack.append(4)\n",
        "\n",
        "# print the stack contents\n",
        "print(stack)\n",
        "\n",
        "# pop an item off the stack\n",
        "x = stack.pop()\n",
        "print(x)\n",
        "print(stack)"
      ],
      "metadata": {
        "id": "hJ17kDPMymS3"
      },
      "execution_count": null,
      "outputs": []
    }
  ]
}
{
  "nbformat": 4,
  "nbformat_minor": 0,
  "metadata": {
    "colab": {
      "private_outputs": true,
      "provenance": [],
      "authorship_tag": "ABX9TyNgSid5+00ZsngZZTIjoJzk",
      "include_colab_link": true
    },
    "kernelspec": {
      "name": "python3",
      "display_name": "Python 3"
    },
    "language_info": {
      "name": "python"
    }
  },
  "cells": [
    {
      "cell_type": "markdown",
      "metadata": {
        "id": "view-in-github",
        "colab_type": "text"
      },
      "source": [
        "<a href=\"https://colab.research.google.com/github/zrghassabi/Datastructure/blob/main/StackQueueDictionary.ipynb\" target=\"_parent\"><img src=\"https://colab.research.google.com/assets/colab-badge.svg\" alt=\"Open In Colab\"/></a>"
      ]
    },
    {
      "cell_type": "code",
      "execution_count": null,
      "metadata": {
        "id": "CUK1ioHqtQ7S"
      },
      "outputs": [],
      "source": [
        "# try out the Python stack functions\n",
        "\n",
        "# create a new empty stack\n",
        "stack = []\n",
        "\n",
        "# push items onto the stack\n",
        "stack.append(1)\n",
        "stack.append(2)\n",
        "stack.append(3)\n",
        "stack.append(4)\n",
        "\n",
        "# print the stack contents\n",
        "print(stack)\n",
        "\n",
        "# pop an item off the stack\n",
        "x = stack.pop()\n",
        "print(x)\n",
        "print(stack)"
      ]
    },
    {
      "cell_type": "code",
      "source": [
        "# try out the Python queue functions\n",
        "from collections import deque\n",
        "\n",
        "# create a new empty deque object that will function as a queue\n",
        "queue = deque()\n",
        "\n",
        "# add some items to the queue\n",
        "queue.append(1)\n",
        "queue.append(2)\n",
        "queue.append(3)\n",
        "queue.append(4)\n",
        "\n",
        "# print the queue contents\n",
        "print(queue)\n",
        "\n",
        "# pop an item off the front of the queue\n",
        "x = queue.popleft()\n",
        "print(x)\n",
        "print(queue)"
      ],
      "metadata": {
        "id": "ls-E1NYOtfJI"
      },
      "execution_count": null,
      "outputs": []
    },
    {
      "cell_type": "code",
      "source": [
        "# Example file for Programming Foundations: Algorithms by Joe Marini\n",
        "# demonstrate dictionary usage\n",
        "\n",
        "\n",
        "# create a dictionary all at once\n",
        "items1 = dict({\"key1\": 1, \"key2\": 2, \"key3\": \"three\"})\n",
        "print(items1)\n",
        "\n",
        "\n",
        "# create a dictionary progressively\n",
        "items2 = {}\n",
        "items2[\"key1\"] = 1\n",
        "items2[\"key2\"] = 2\n",
        "items2[\"key3\"] = 3\n",
        "print(items2)\n",
        "\n",
        "# try to access a nonexistent key\n",
        "# print(items1[\"key6\"])\n",
        "\n",
        "# replace an item\n",
        "items2[\"key2\"] = \"two\"\n",
        "print(items2)\n",
        "\n",
        "# iterate the keys and values in the dictionary\n",
        "for key, value in items2.items():\n",
        "    print(\"key: \", key, \" value: \", value)"
      ],
      "metadata": {
        "id": "b_9T00pZw-5a"
      },
      "execution_count": null,
      "outputs": []
    }
  ]
}